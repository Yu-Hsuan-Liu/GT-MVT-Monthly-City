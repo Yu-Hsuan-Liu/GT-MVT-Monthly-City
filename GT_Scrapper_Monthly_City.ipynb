{
 "cells": [
  {
   "cell_type": "code",
   "execution_count": 1,
   "id": "9b46170d",
   "metadata": {},
   "outputs": [],
   "source": [
    "import time\n",
    "from datetime import datetime, timedelta\n",
    "from dateutil.relativedelta import *\n",
    "import pandas as pd\n",
    "import os\n",
    "import csv\n",
    "from scipy.stats import pearsonr\n",
    "import numpy as np\n",
    "import re\n",
    "import pytrends\n",
    "import bash\n",
    "import random\n",
    "import pdb\n",
    "import calendar\n",
    "import requests\n",
    "from requests.exceptions import Timeout\n",
    "from pytrends.exceptions import ResponseError\n",
    "from torpy.circuit import  CellTimeoutError"
   ]
  },
  {
   "cell_type": "code",
   "execution_count": 2,
   "id": "21a1afcb",
   "metadata": {},
   "outputs": [
    {
     "name": "stderr",
     "output_type": "stream",
     "text": [
      "C:\\Users\\Sean Liu\\AppData\\Local\\Temp\\ipykernel_236\\3900106164.py:7: DeprecationWarning: executable_path has been deprecated, please pass in a Service object\n",
      "  driver = webdriver.Edge(options = options, executable_path=edge_driver_path)\n"
     ]
    }
   ],
   "source": [
    "def get_cookie():\n",
    "    from selenium import webdriver\n",
    "    options = webdriver.EdgeOptions()\n",
    "    edge_driver_path = r'C:\\Users\\Sean Liu\\Downloads\\edgedriver_win64\\edge_webdriver.exe'\n",
    "\n",
    "# Create a WebDriver instance for Microsoft Edge\n",
    "    driver = webdriver.Edge(options = options, executable_path=edge_driver_path)   \n",
    "    driver.get(\"https://trends.google.com/\")\n",
    "    time.sleep(5)\n",
    "    cookie = driver.get_cookie(\"NID\")[\"value\"]\n",
    "    driver.quit()\n",
    "    return cookie\n",
    "\n",
    "nid_cookie = f\"NID={get_cookie()}\"\n"
   ]
  },
  {
   "cell_type": "code",
   "execution_count": 3,
   "id": "e8762792",
   "metadata": {},
   "outputs": [
    {
     "data": {
      "text/plain": [
       "'NID=511=heyTdTvGUFolQPv8kAi2xgRSCeojbf_QJxDHWSfestUUgKJzCbQDhMfAfuP-Zo4-sRJD5XRFlS3oLtv_2lp5YCcq4jhVshHN7zB9wS8SVQGmUrW3-95CNNRa14wJbPLweXcaUnsRDWVx-phV830VnTDvrzVKBZgZRA2mjFDKkm4'"
      ]
     },
     "execution_count": 3,
     "metadata": {},
     "output_type": "execute_result"
    }
   ],
   "source": [
    "nid_cookie"
   ]
  },
  {
   "cell_type": "code",
   "execution_count": 4,
   "id": "f5a667db",
   "metadata": {},
   "outputs": [],
   "source": [
    "from pytrends.request import TrendReq\n",
    "\n",
    "requests_args = {\n",
    "    'headers' : {\n",
    "        \"Cookie\": nid_cookie,\n",
    "    }\n",
    "}\n",
    " \n",
    "\n"
   ]
  },
  {
   "cell_type": "code",
   "execution_count": 5,
   "id": "26b226d2",
   "metadata": {},
   "outputs": [],
   "source": [
    "def init():\n",
    "    #https://pypi.org/project/torpy/\n",
    "    #pip install torpy\n",
    "    from torpy import TorClient\n",
    "    hostname = 'ifconfig.me'  # It's possible use onion hostname here as well\n",
    "    with TorClient() as tor:\n",
    "        # Choose random guard node and create 3-hops circuit\n",
    "        with tor.create_circuit(3) as circuit:\n",
    "            # Create tor stream to host\n",
    "            with circuit.create_stream((hostname, 80)) as stream:\n",
    "                # Now we can communicate with host\n",
    "                stream.send(b'GET / HTTP/1.0\\r\\nHost: %s\\r\\n\\r\\n' % hostname.encode())\n",
    "                recv = stream.recv(1024)\n",
    "    return 0"
   ]
  },
  {
   "cell_type": "code",
   "execution_count": 6,
   "id": "eecf1545",
   "metadata": {},
   "outputs": [],
   "source": [
    "def column_name_to_mvt_and_remove_zero_values(df, geo_name):\n",
    "    df.rename(columns={df.columns[0]: f\"MVT_GT_{geo_name}\" }, inplace = True)\n",
    "    df = df[df[f\"MVT_GT_{geo_name}\"] != 0]\n",
    "    return df"
   ]
  },
  {
   "cell_type": "code",
   "execution_count": 7,
   "id": "a5a6a136",
   "metadata": {},
   "outputs": [],
   "source": [
    "def execute_init():\n",
    "    while True:\n",
    "        try:\n",
    "            init()\n",
    "            print(\"init status completed\")\n",
    "            break\n",
    "        except (TimeoutError, CellTimeoutError, ConnectionResetError) as error:\n",
    "            print(f\"Init Error Occured: {error}\")\n",
    "            print(\"Let me sleep for 10 seconds\")\n",
    "            print(\"ZZzzzz...\")\n",
    "            time.sleep(10)\n",
    "            print(\"Was a nice sleep, now let me continue...\")\n",
    "            pass\n",
    "    return 0"
   ]
  },
  {
   "cell_type": "code",
   "execution_count": 8,
   "id": "bd4bb7b0",
   "metadata": {},
   "outputs": [],
   "source": [
    "def GT_temp_df(start_date, end_date, geo_code, geo_name):\n",
    "    \n",
    "    temp_df = pd.DataFrame()\n",
    "    while len(temp_df) == 0:\n",
    "        try:\n",
    "            pytrend.build_payload(mvt_keyword, cat=0, timeframe=f\"{start_date} {end_date}\", geo = geo_code)\n",
    "            temp_df = pytrend.interest_over_time()\n",
    "\n",
    "        except (ResponseError, Timeout, ConnectionAbortedError, ConnectionError) as error:\n",
    "            try:\n",
    "                print(f\"GT Error Occured: {error}\")\n",
    "                !pip install pytrends --upgrade\n",
    "                #init()\n",
    "                #rint(f\"Let's Go, Onion!\")\n",
    "                pytrend.build_payload(mvt_keyword, cat=0, timeframe=f\"{start_date} {end_date}\", geo = geo_code)\n",
    "                temp_df = pytrend.interest_over_time()\n",
    "\n",
    "            except (ResponseError, Timeout, ConnectionAbortedError, ConnectionError) as error:\n",
    "                print(f\"GT Error Occured: {error}\")\n",
    "                print(f\"Let me sleep for 1 day, till {(datetime.now() + timedelta(days=1)).strftime('%m/%d/%Y, %H:%M:%S')}\")\n",
    "                print(\"ZZzzzz...\")\n",
    "                time.sleep(random.randint(60*60*24, 60*60*24+30,))\n",
    "                print(\"Was a nice sleep, now let me continue...\")\n",
    "\n",
    "\n",
    "    print(f\"Obtaining GT MVT from {start_date} to {end_date} in {geo_name} metro area\")\n",
    "    time.sleep(random.randint(600, 660))\n",
    "    temp_df = column_name_to_mvt_and_remove_zero_values(temp_df, geo_name)\n",
    "    return temp_df"
   ]
  },
  {
   "cell_type": "code",
   "execution_count": 9,
   "id": "7575af2b",
   "metadata": {},
   "outputs": [],
   "source": [
    "def combine_df_and_temp_df_and_rescale_by_overlap_factors(df, temp_df):\n",
    "    df = pd.concat([df, temp_df.iloc[:, 0]], axis = 1)\n",
    "    if len(df.columns) > 1:\n",
    "        factor_data = df.dropna(how = \"any\")\n",
    "        factor_divided = factor_data.iloc[:, 0]/factor_data.iloc[:, 1]\n",
    "        adjusted_factor = factor_divided.mean()\n",
    "        df.iloc[:,1] = df.iloc[:,1]*adjusted_factor\n",
    "        df = df.mean(axis = 1)\n",
    "    return df"
   ]
  },
  {
   "cell_type": "code",
   "execution_count": null,
   "id": "66539e2c",
   "metadata": {},
   "outputs": [],
   "source": [
    "init()"
   ]
  },
  {
   "cell_type": "code",
   "execution_count": null,
   "id": "0f3e3a90",
   "metadata": {},
   "outputs": [],
   "source": [
    "#basic pytrend settings\n",
    "pytrend = TrendReq(requests_args=requests_args,  retries=3)"
   ]
  },
  {
   "cell_type": "code",
   "execution_count": null,
   "id": "7e8795a5",
   "metadata": {
    "scrolled": true
   },
   "outputs": [],
   "source": [
    "'''\n",
    "kw_list = [\"car stolen+find stolen car+report police stolen car+insurance car stolen-dream-check\",\n",
    "    \"I raped+raped me+raped report police+being raped+been raped - dream - kobe - trump - porn\",\n",
    "    \"my stolen+find my stolen+theft report police+someone stolen my - car - heart - dream - number\",\n",
    "    \"burglary+home burglarized+my house broken into+my home broken into+burglary report police - dream\",\n",
    "    \"my committed a crime+police arrested my+my arrested+my in jail+my in prison - arrested development\",\n",
    "    \"I hate family+parents hate me+I hate my parents+I hate school+I hate teacher+I hate dad+I hate mom\"]\n",
    "'''\n",
    "#years = [i for i in range(2010, 2016)]\n",
    "#print(years)\n",
    "#months = [i for i in range(1, 13, 3)] \n",
    "#print(months)"
   ]
  },
  {
   "cell_type": "markdown",
   "id": "30921c43",
   "metadata": {},
   "source": [
    "### GT Keywords"
   ]
  },
  {
   "cell_type": "code",
   "execution_count": null,
   "id": "2105a9d7",
   "metadata": {},
   "outputs": [],
   "source": [
    "mvt_keyword = [\"car stolen+find stolen car+report police stolen car+insurance car stolen-dream-check\"] "
   ]
  },
  {
   "cell_type": "markdown",
   "id": "8df312d7",
   "metadata": {},
   "source": [
    "### Geo Location and Geo Codes"
   ]
  },
  {
   "cell_type": "code",
   "execution_count": null,
   "id": "8273e0bf",
   "metadata": {},
   "outputs": [],
   "source": [
    "# Top 50 the most populous cities in the U.S.\n",
    "region_code_dict = {\n",
    "    \"US-NY-501\": \"New York NY\",\n",
    "    \"US-CA-807\": \"San Francisco-Oakland-San Jose CA\", #including Oakland, CA and San Jose CA\n",
    "    \"US-CA-803\": \"Los Angeles CA\", #including Long Beach, CA\n",
    "    \"US-CA-825\": \"San Diego CA\", \n",
    "    \"US-CA-862\": \"Sacramento-Stockton-Modesto CA\",\n",
    "    \"US-AZ-753\": \"Phoenix AZ\", #including Mesa, AZ\n",
    "    \"US-MI-505\": \"Detroit MI\",\n",
    "    \"US-NC-517\" : \"Charlotte NC\",\n",
    "    \"US-OH-535\" : \"Columbus OH\",\n",
    "    \"US-FL-561\" : \"Jacksonville FL\",\n",
    "    \"US-MD-511\" : \"Washington DC (Hagerstown MD)\", # including Arlington VA\n",
    "    \"US-OK-650\" : \"Oklahoma City OK\",\n",
    "    \"US-TX-765\" : \"El Paso TX\",\n",
    "    \"US-OR-820\" : \"Portland OR\",\n",
    "    \"US-MD-512\" : \"Baltimore MD\",\n",
    "    \"US-WI-617\" : \"Milwaukee WI\",\n",
    "    \"US-NM-790\" : \"Albuquerque-Santa Fe NM\",\n",
    "    \"US-CA-866\" : \"Fresno-Visalia CA\",\n",
    "    \"US-MO-616\" : \"Kansas City MO\",\n",
    "    \"US-NE-652\" : \"Omaha NE\",\n",
    "    \"US-CO-752\" : \"Colorado Springs-Pueblo CO\",\n",
    "    \"US-NC-560\" : \"Raleigh-Durham (Fayetteville) NC\",\n",
    "    \"US-VA-544\" : \"Norfolk-Portsmouth-Newport News VA\", #including Virginia Beach, VA\n",
    "    \"US-FL-528\" : \"Miami-Ft. Lauderdale FL\",\n",
    "    \"US-CA-800\" : \"Bakersfield CA\",\n",
    "    \"US-OK-671\" : \"Tulsa OK\",\n",
    "    \"US-KS-678\" : \"Wichita-Hutchinson KS\"  ,\n",
    "    \"US-NV-839\":\"Las Vegas NV\",\n",
    "    \"US-WA-819\":\"Seattle-Tacoma WA\",\n",
    "    \"US-CO-751\":\"Denver CO\", #including Aurora, CO\n",
    "    \"US-PA-504\":\"Philadelphia PA\",\n",
    "    \"US-GA-524\":\"Atlanta GA\",\n",
    "    \"US-IN-602\":\"Chicago IL\",\n",
    "    \"US-NH-506\":\"Boston MA-Manchester NH\",\n",
    "    \"CA-ON\":\"Ontario\",\n",
    "    \"US-KY-529\" : \"Louisville KY\",\n",
    "    \"US-TN-640\" : \"Memphis TN\",\n",
    "    \"US-WI-613\" : \"Minneapolis-St. Paul MN\",\n",
    "    \"US-TN-659\" : \"Nashville TN\",\n",
    "    \"US-AZ-789\" : \"Tucson AZ\",\n",
    "    \"US-TX-623\" : \"Dallas-Ft. Worth TX\", # including Fort Worth, TX\n",
    "    \"US-TX-641\" : \"San Antonio TX\",\n",
    "    \"US-TX-618\" : \"Houston TX\",\n",
    "    \"US-TX-635\" : \"Austin TX\",\n",
    "}\n",
    "\n",
    "\n",
    "\n",
    "\n"
   ]
  },
  {
   "cell_type": "code",
   "execution_count": null,
   "id": "720ed6be",
   "metadata": {},
   "outputs": [],
   "source": [
    "reversed_dict = {value: key for key, value in region_code_dict.items()}"
   ]
  },
  {
   "cell_type": "markdown",
   "id": "165194c8",
   "metadata": {},
   "source": [
    "### Dates (From, To)"
   ]
  },
  {
   "cell_type": "code",
   "execution_count": 15,
   "id": "5a40f85c",
   "metadata": {},
   "outputs": [],
   "source": [
    "From  = [\"2015-01-01\"]\n",
    "\n",
    "To = [\"2022-12-31\"]"
   ]
  },
  {
   "cell_type": "markdown",
   "id": "a6f40044",
   "metadata": {},
   "source": [
    "## Execute Pytrends to Pull Daily Data from Google Trends"
   ]
  },
  {
   "cell_type": "code",
   "execution_count": 17,
   "id": "48a26924",
   "metadata": {
    "scrolled": true
   },
   "outputs": [
    {
     "name": "stdout",
     "output_type": "stream",
     "text": [
      "Obtaining GT MVT from 2015-01-01 to 2022-12-31 in New York NY metro area\n",
      "New York NY_monthly_2015-01-01_2022-12-31_20231016_15_41 file saved\n",
      "Obtaining GT MVT from 2015-01-01 to 2022-12-31 in San Francisco-Oakland-San Jose CA metro area\n",
      "San Francisco-Oakland-San Jose CA_monthly_2015-01-01_2022-12-31_20231016_15_51 file saved\n",
      "Obtaining GT MVT from 2015-01-01 to 2022-12-31 in Los Angeles CA metro area\n",
      "Los Angeles CA_monthly_2015-01-01_2022-12-31_20231016_16_02 file saved\n",
      "Obtaining GT MVT from 2015-01-01 to 2022-12-31 in San Diego CA metro area\n",
      "San Diego CA_monthly_2015-01-01_2022-12-31_20231016_16_13 file saved\n",
      "Obtaining GT MVT from 2015-01-01 to 2022-12-31 in Sacramento-Stockton-Modesto CA metro area\n",
      "Sacramento-Stockton-Modesto CA_monthly_2015-01-01_2022-12-31_20231016_16_23 file saved\n",
      "Obtaining GT MVT from 2015-01-01 to 2022-12-31 in Phoenix AZ metro area\n",
      "Phoenix AZ_monthly_2015-01-01_2022-12-31_20231016_16_34 file saved\n",
      "Obtaining GT MVT from 2015-01-01 to 2022-12-31 in Detroit MI metro area\n",
      "Detroit MI_monthly_2015-01-01_2022-12-31_20231016_16_45 file saved\n",
      "Obtaining GT MVT from 2015-01-01 to 2022-12-31 in Charlotte NC metro area\n",
      "Charlotte NC_monthly_2015-01-01_2022-12-31_20231016_16_55 file saved\n"
     ]
    },
    {
     "ename": "RetryError",
     "evalue": "HTTPSConnectionPool(host='trends.google.com', port=443): Max retries exceeded with url: /trends/api/widgetdata/multiline?req=%7B%22time%22%3A+%222015-01-01+2022-12-31%22%2C+%22resolution%22%3A+%22MONTH%22%2C+%22locale%22%3A+%22en-US%22%2C+%22comparisonItem%22%3A+%5B%7B%22geo%22%3A+%7B%22dma%22%3A+%22535%22%7D%2C+%22complexKeywordsRestriction%22%3A+%7B%22keyword%22%3A+%5B%7B%22type%22%3A+%22BROAD%22%2C+%22value%22%3A+%22car+stolen%22%7D%2C+%7B%22type%22%3A+%22BROAD%22%2C+%22value%22%3A+%22find+stolen+car%22%7D%2C+%7B%22type%22%3A+%22BROAD%22%2C+%22value%22%3A+%22report+police+stolen+car%22%7D%2C+%7B%22type%22%3A+%22BROAD%22%2C+%22value%22%3A+%22insurance+car+stolen-dream-check%22%7D%5D%2C+%22operator%22%3A+%22OR%22%7D%7D%5D%2C+%22requestOptions%22%3A+%7B%22property%22%3A+%22%22%2C+%22backend%22%3A+%22IZG%22%2C+%22category%22%3A+0%7D%2C+%22userConfig%22%3A+%7B%22userType%22%3A+%22USER_TYPE_SCRAPER%22%7D%7D&token=APP6_UEAAAAAZS704BQf1ltpl7nXmZ_IVwlqOVq9mRpM&tz=360 (Caused by ResponseError('too many 429 error responses'))",
     "output_type": "error",
     "traceback": [
      "\u001b[1;31m---------------------------------------------------------------------------\u001b[0m",
      "\u001b[1;31mMaxRetryError\u001b[0m                             Traceback (most recent call last)",
      "\u001b[1;32m~\\anaconda3\\lib\\site-packages\\requests\\adapters.py\u001b[0m in \u001b[0;36msend\u001b[1;34m(self, request, stream, timeout, verify, cert, proxies)\u001b[0m\n\u001b[0;32m    488\u001b[0m             \u001b[1;32mif\u001b[0m \u001b[1;32mnot\u001b[0m \u001b[0mchunked\u001b[0m\u001b[1;33m:\u001b[0m\u001b[1;33m\u001b[0m\u001b[1;33m\u001b[0m\u001b[0m\n\u001b[1;32m--> 489\u001b[1;33m                 resp = conn.urlopen(\n\u001b[0m\u001b[0;32m    490\u001b[0m                     \u001b[0mmethod\u001b[0m\u001b[1;33m=\u001b[0m\u001b[0mrequest\u001b[0m\u001b[1;33m.\u001b[0m\u001b[0mmethod\u001b[0m\u001b[1;33m,\u001b[0m\u001b[1;33m\u001b[0m\u001b[1;33m\u001b[0m\u001b[0m\n",
      "\u001b[1;32m~\\anaconda3\\lib\\site-packages\\urllib3\\connectionpool.py\u001b[0m in \u001b[0;36murlopen\u001b[1;34m(self, method, url, body, headers, retries, redirect, assert_same_host, timeout, pool_timeout, release_conn, chunked, body_pos, **response_kw)\u001b[0m\n\u001b[0;32m    877\u001b[0m             \u001b[0mlog\u001b[0m\u001b[1;33m.\u001b[0m\u001b[0mdebug\u001b[0m\u001b[1;33m(\u001b[0m\u001b[1;34m\"Retry: %s\"\u001b[0m\u001b[1;33m,\u001b[0m \u001b[0murl\u001b[0m\u001b[1;33m)\u001b[0m\u001b[1;33m\u001b[0m\u001b[1;33m\u001b[0m\u001b[0m\n\u001b[1;32m--> 878\u001b[1;33m             return self.urlopen(\n\u001b[0m\u001b[0;32m    879\u001b[0m                 \u001b[0mmethod\u001b[0m\u001b[1;33m,\u001b[0m\u001b[1;33m\u001b[0m\u001b[1;33m\u001b[0m\u001b[0m\n",
      "\u001b[1;32m~\\anaconda3\\lib\\site-packages\\urllib3\\connectionpool.py\u001b[0m in \u001b[0;36murlopen\u001b[1;34m(self, method, url, body, headers, retries, redirect, assert_same_host, timeout, pool_timeout, release_conn, chunked, body_pos, **response_kw)\u001b[0m\n\u001b[0;32m    877\u001b[0m             \u001b[0mlog\u001b[0m\u001b[1;33m.\u001b[0m\u001b[0mdebug\u001b[0m\u001b[1;33m(\u001b[0m\u001b[1;34m\"Retry: %s\"\u001b[0m\u001b[1;33m,\u001b[0m \u001b[0murl\u001b[0m\u001b[1;33m)\u001b[0m\u001b[1;33m\u001b[0m\u001b[1;33m\u001b[0m\u001b[0m\n\u001b[1;32m--> 878\u001b[1;33m             return self.urlopen(\n\u001b[0m\u001b[0;32m    879\u001b[0m                 \u001b[0mmethod\u001b[0m\u001b[1;33m,\u001b[0m\u001b[1;33m\u001b[0m\u001b[1;33m\u001b[0m\u001b[0m\n",
      "\u001b[1;32m~\\anaconda3\\lib\\site-packages\\urllib3\\connectionpool.py\u001b[0m in \u001b[0;36murlopen\u001b[1;34m(self, method, url, body, headers, retries, redirect, assert_same_host, timeout, pool_timeout, release_conn, chunked, body_pos, **response_kw)\u001b[0m\n\u001b[0;32m    877\u001b[0m             \u001b[0mlog\u001b[0m\u001b[1;33m.\u001b[0m\u001b[0mdebug\u001b[0m\u001b[1;33m(\u001b[0m\u001b[1;34m\"Retry: %s\"\u001b[0m\u001b[1;33m,\u001b[0m \u001b[0murl\u001b[0m\u001b[1;33m)\u001b[0m\u001b[1;33m\u001b[0m\u001b[1;33m\u001b[0m\u001b[0m\n\u001b[1;32m--> 878\u001b[1;33m             return self.urlopen(\n\u001b[0m\u001b[0;32m    879\u001b[0m                 \u001b[0mmethod\u001b[0m\u001b[1;33m,\u001b[0m\u001b[1;33m\u001b[0m\u001b[1;33m\u001b[0m\u001b[0m\n",
      "\u001b[1;32m~\\anaconda3\\lib\\site-packages\\urllib3\\connectionpool.py\u001b[0m in \u001b[0;36murlopen\u001b[1;34m(self, method, url, body, headers, retries, redirect, assert_same_host, timeout, pool_timeout, release_conn, chunked, body_pos, **response_kw)\u001b[0m\n\u001b[0;32m    867\u001b[0m             \u001b[1;32mtry\u001b[0m\u001b[1;33m:\u001b[0m\u001b[1;33m\u001b[0m\u001b[1;33m\u001b[0m\u001b[0m\n\u001b[1;32m--> 868\u001b[1;33m                 \u001b[0mretries\u001b[0m \u001b[1;33m=\u001b[0m \u001b[0mretries\u001b[0m\u001b[1;33m.\u001b[0m\u001b[0mincrement\u001b[0m\u001b[1;33m(\u001b[0m\u001b[0mmethod\u001b[0m\u001b[1;33m,\u001b[0m \u001b[0murl\u001b[0m\u001b[1;33m,\u001b[0m \u001b[0mresponse\u001b[0m\u001b[1;33m=\u001b[0m\u001b[0mresponse\u001b[0m\u001b[1;33m,\u001b[0m \u001b[0m_pool\u001b[0m\u001b[1;33m=\u001b[0m\u001b[0mself\u001b[0m\u001b[1;33m)\u001b[0m\u001b[1;33m\u001b[0m\u001b[1;33m\u001b[0m\u001b[0m\n\u001b[0m\u001b[0;32m    869\u001b[0m             \u001b[1;32mexcept\u001b[0m \u001b[0mMaxRetryError\u001b[0m\u001b[1;33m:\u001b[0m\u001b[1;33m\u001b[0m\u001b[1;33m\u001b[0m\u001b[0m\n",
      "\u001b[1;32m~\\anaconda3\\lib\\site-packages\\urllib3\\util\\retry.py\u001b[0m in \u001b[0;36mincrement\u001b[1;34m(self, method, url, response, error, _pool, _stacktrace)\u001b[0m\n\u001b[0;32m    591\u001b[0m         \u001b[1;32mif\u001b[0m \u001b[0mnew_retry\u001b[0m\u001b[1;33m.\u001b[0m\u001b[0mis_exhausted\u001b[0m\u001b[1;33m(\u001b[0m\u001b[1;33m)\u001b[0m\u001b[1;33m:\u001b[0m\u001b[1;33m\u001b[0m\u001b[1;33m\u001b[0m\u001b[0m\n\u001b[1;32m--> 592\u001b[1;33m             \u001b[1;32mraise\u001b[0m \u001b[0mMaxRetryError\u001b[0m\u001b[1;33m(\u001b[0m\u001b[0m_pool\u001b[0m\u001b[1;33m,\u001b[0m \u001b[0murl\u001b[0m\u001b[1;33m,\u001b[0m \u001b[0merror\u001b[0m \u001b[1;32mor\u001b[0m \u001b[0mResponseError\u001b[0m\u001b[1;33m(\u001b[0m\u001b[0mcause\u001b[0m\u001b[1;33m)\u001b[0m\u001b[1;33m)\u001b[0m\u001b[1;33m\u001b[0m\u001b[1;33m\u001b[0m\u001b[0m\n\u001b[0m\u001b[0;32m    593\u001b[0m \u001b[1;33m\u001b[0m\u001b[0m\n",
      "\u001b[1;31mMaxRetryError\u001b[0m: HTTPSConnectionPool(host='trends.google.com', port=443): Max retries exceeded with url: /trends/api/widgetdata/multiline?req=%7B%22time%22%3A+%222015-01-01+2022-12-31%22%2C+%22resolution%22%3A+%22MONTH%22%2C+%22locale%22%3A+%22en-US%22%2C+%22comparisonItem%22%3A+%5B%7B%22geo%22%3A+%7B%22dma%22%3A+%22535%22%7D%2C+%22complexKeywordsRestriction%22%3A+%7B%22keyword%22%3A+%5B%7B%22type%22%3A+%22BROAD%22%2C+%22value%22%3A+%22car+stolen%22%7D%2C+%7B%22type%22%3A+%22BROAD%22%2C+%22value%22%3A+%22find+stolen+car%22%7D%2C+%7B%22type%22%3A+%22BROAD%22%2C+%22value%22%3A+%22report+police+stolen+car%22%7D%2C+%7B%22type%22%3A+%22BROAD%22%2C+%22value%22%3A+%22insurance+car+stolen-dream-check%22%7D%5D%2C+%22operator%22%3A+%22OR%22%7D%7D%5D%2C+%22requestOptions%22%3A+%7B%22property%22%3A+%22%22%2C+%22backend%22%3A+%22IZG%22%2C+%22category%22%3A+0%7D%2C+%22userConfig%22%3A+%7B%22userType%22%3A+%22USER_TYPE_SCRAPER%22%7D%7D&token=APP6_UEAAAAAZS704BQf1ltpl7nXmZ_IVwlqOVq9mRpM&tz=360 (Caused by ResponseError('too many 429 error responses'))",
      "\nDuring handling of the above exception, another exception occurred:\n",
      "\u001b[1;31mRetryError\u001b[0m                                Traceback (most recent call last)",
      "\u001b[1;32m~\\AppData\\Local\\Temp\\ipykernel_8848\\466010049.py\u001b[0m in \u001b[0;36m<module>\u001b[1;34m\u001b[0m\n\u001b[0;32m      6\u001b[0m         \u001b[1;32mfor\u001b[0m \u001b[0mstart_date\u001b[0m\u001b[1;33m,\u001b[0m \u001b[0mend_date\u001b[0m \u001b[1;32min\u001b[0m \u001b[0mzip\u001b[0m\u001b[1;33m(\u001b[0m\u001b[0mFrom\u001b[0m\u001b[1;33m,\u001b[0m \u001b[0mTo\u001b[0m\u001b[1;33m)\u001b[0m\u001b[1;33m:\u001b[0m\u001b[1;33m\u001b[0m\u001b[1;33m\u001b[0m\u001b[0m\n\u001b[0;32m      7\u001b[0m             \u001b[1;31m#Get daily estimates with adjusted factors [mean(old/new) * new]\u001b[0m\u001b[1;33m\u001b[0m\u001b[1;33m\u001b[0m\u001b[0m\n\u001b[1;32m----> 8\u001b[1;33m             \u001b[0mtemp_df\u001b[0m \u001b[1;33m=\u001b[0m \u001b[0mGT_temp_df\u001b[0m\u001b[1;33m(\u001b[0m\u001b[0mstart_date\u001b[0m\u001b[1;33m,\u001b[0m \u001b[0mend_date\u001b[0m\u001b[1;33m,\u001b[0m \u001b[0mgeo_code\u001b[0m\u001b[1;33m,\u001b[0m \u001b[0mgeo_name\u001b[0m\u001b[1;33m)\u001b[0m\u001b[1;33m\u001b[0m\u001b[1;33m\u001b[0m\u001b[0m\n\u001b[0m\u001b[0;32m      9\u001b[0m             \u001b[0mdf\u001b[0m \u001b[1;33m=\u001b[0m \u001b[0mcombine_df_and_temp_df_and_rescale_by_overlap_factors\u001b[0m\u001b[1;33m(\u001b[0m\u001b[0mdf\u001b[0m\u001b[1;33m,\u001b[0m \u001b[0mtemp_df\u001b[0m\u001b[1;33m)\u001b[0m\u001b[1;33m\u001b[0m\u001b[1;33m\u001b[0m\u001b[0m\n\u001b[0;32m     10\u001b[0m \u001b[1;33m\u001b[0m\u001b[0m\n",
      "\u001b[1;32m~\\AppData\\Local\\Temp\\ipykernel_8848\\586235916.py\u001b[0m in \u001b[0;36mGT_temp_df\u001b[1;34m(start_date, end_date, geo_code, geo_name)\u001b[0m\n\u001b[0;32m      5\u001b[0m         \u001b[1;32mtry\u001b[0m\u001b[1;33m:\u001b[0m\u001b[1;33m\u001b[0m\u001b[1;33m\u001b[0m\u001b[0m\n\u001b[0;32m      6\u001b[0m             \u001b[0mpytrend\u001b[0m\u001b[1;33m.\u001b[0m\u001b[0mbuild_payload\u001b[0m\u001b[1;33m(\u001b[0m\u001b[0mmvt_keyword\u001b[0m\u001b[1;33m,\u001b[0m \u001b[0mcat\u001b[0m\u001b[1;33m=\u001b[0m\u001b[1;36m0\u001b[0m\u001b[1;33m,\u001b[0m \u001b[0mtimeframe\u001b[0m\u001b[1;33m=\u001b[0m\u001b[1;34mf\"{start_date} {end_date}\"\u001b[0m\u001b[1;33m,\u001b[0m \u001b[0mgeo\u001b[0m \u001b[1;33m=\u001b[0m \u001b[0mgeo_code\u001b[0m\u001b[1;33m)\u001b[0m\u001b[1;33m\u001b[0m\u001b[1;33m\u001b[0m\u001b[0m\n\u001b[1;32m----> 7\u001b[1;33m             \u001b[0mtemp_df\u001b[0m \u001b[1;33m=\u001b[0m \u001b[0mpytrend\u001b[0m\u001b[1;33m.\u001b[0m\u001b[0minterest_over_time\u001b[0m\u001b[1;33m(\u001b[0m\u001b[1;33m)\u001b[0m\u001b[1;33m\u001b[0m\u001b[1;33m\u001b[0m\u001b[0m\n\u001b[0m\u001b[0;32m      8\u001b[0m \u001b[1;33m\u001b[0m\u001b[0m\n\u001b[0;32m      9\u001b[0m         \u001b[1;32mexcept\u001b[0m \u001b[1;33m(\u001b[0m\u001b[0mResponseError\u001b[0m\u001b[1;33m,\u001b[0m \u001b[0mTimeout\u001b[0m\u001b[1;33m,\u001b[0m \u001b[0mConnectionAbortedError\u001b[0m\u001b[1;33m,\u001b[0m \u001b[0mConnectionError\u001b[0m\u001b[1;33m)\u001b[0m \u001b[1;32mas\u001b[0m \u001b[0merror\u001b[0m\u001b[1;33m:\u001b[0m\u001b[1;33m\u001b[0m\u001b[1;33m\u001b[0m\u001b[0m\n",
      "\u001b[1;32m~\\AppData\\Roaming\\Python\\Python39\\site-packages\\pytrends\\request.py\u001b[0m in \u001b[0;36minterest_over_time\u001b[1;34m(self)\u001b[0m\n\u001b[0;32m    230\u001b[0m \u001b[1;33m\u001b[0m\u001b[0m\n\u001b[0;32m    231\u001b[0m         \u001b[1;31m# make the request and parse the returned json\u001b[0m\u001b[1;33m\u001b[0m\u001b[1;33m\u001b[0m\u001b[0m\n\u001b[1;32m--> 232\u001b[1;33m         req_json = self._get_data(\n\u001b[0m\u001b[0;32m    233\u001b[0m             \u001b[0murl\u001b[0m\u001b[1;33m=\u001b[0m\u001b[0mTrendReq\u001b[0m\u001b[1;33m.\u001b[0m\u001b[0mINTEREST_OVER_TIME_URL\u001b[0m\u001b[1;33m,\u001b[0m\u001b[1;33m\u001b[0m\u001b[1;33m\u001b[0m\u001b[0m\n\u001b[0;32m    234\u001b[0m             \u001b[0mmethod\u001b[0m\u001b[1;33m=\u001b[0m\u001b[0mTrendReq\u001b[0m\u001b[1;33m.\u001b[0m\u001b[0mGET_METHOD\u001b[0m\u001b[1;33m,\u001b[0m\u001b[1;33m\u001b[0m\u001b[1;33m\u001b[0m\u001b[0m\n",
      "\u001b[1;32m~\\AppData\\Roaming\\Python\\Python39\\site-packages\\pytrends\\request.py\u001b[0m in \u001b[0;36m_get_data\u001b[1;34m(self, url, method, trim_chars, **kwargs)\u001b[0m\n\u001b[0;32m    138\u001b[0m                               **self.requests_args)  # DO NOT USE retries or backoff_factor here\n\u001b[0;32m    139\u001b[0m         \u001b[1;32melse\u001b[0m\u001b[1;33m:\u001b[0m\u001b[1;33m\u001b[0m\u001b[1;33m\u001b[0m\u001b[0m\n\u001b[1;32m--> 140\u001b[1;33m             response = s.get(url, timeout=self.timeout, cookies=self.cookies,\n\u001b[0m\u001b[0;32m    141\u001b[0m                              **kwargs, **self.requests_args)  # DO NOT USE retries or backoff_factor here\n\u001b[0;32m    142\u001b[0m         \u001b[1;31m# check if the response contains json and throw an exception otherwise\u001b[0m\u001b[1;33m\u001b[0m\u001b[1;33m\u001b[0m\u001b[0m\n",
      "\u001b[1;32m~\\anaconda3\\lib\\site-packages\\requests\\sessions.py\u001b[0m in \u001b[0;36mget\u001b[1;34m(self, url, **kwargs)\u001b[0m\n\u001b[0;32m    598\u001b[0m \u001b[1;33m\u001b[0m\u001b[0m\n\u001b[0;32m    599\u001b[0m         \u001b[0mkwargs\u001b[0m\u001b[1;33m.\u001b[0m\u001b[0msetdefault\u001b[0m\u001b[1;33m(\u001b[0m\u001b[1;34m\"allow_redirects\"\u001b[0m\u001b[1;33m,\u001b[0m \u001b[1;32mTrue\u001b[0m\u001b[1;33m)\u001b[0m\u001b[1;33m\u001b[0m\u001b[1;33m\u001b[0m\u001b[0m\n\u001b[1;32m--> 600\u001b[1;33m         \u001b[1;32mreturn\u001b[0m \u001b[0mself\u001b[0m\u001b[1;33m.\u001b[0m\u001b[0mrequest\u001b[0m\u001b[1;33m(\u001b[0m\u001b[1;34m\"GET\"\u001b[0m\u001b[1;33m,\u001b[0m \u001b[0murl\u001b[0m\u001b[1;33m,\u001b[0m \u001b[1;33m**\u001b[0m\u001b[0mkwargs\u001b[0m\u001b[1;33m)\u001b[0m\u001b[1;33m\u001b[0m\u001b[1;33m\u001b[0m\u001b[0m\n\u001b[0m\u001b[0;32m    601\u001b[0m \u001b[1;33m\u001b[0m\u001b[0m\n\u001b[0;32m    602\u001b[0m     \u001b[1;32mdef\u001b[0m \u001b[0moptions\u001b[0m\u001b[1;33m(\u001b[0m\u001b[0mself\u001b[0m\u001b[1;33m,\u001b[0m \u001b[0murl\u001b[0m\u001b[1;33m,\u001b[0m \u001b[1;33m**\u001b[0m\u001b[0mkwargs\u001b[0m\u001b[1;33m)\u001b[0m\u001b[1;33m:\u001b[0m\u001b[1;33m\u001b[0m\u001b[1;33m\u001b[0m\u001b[0m\n",
      "\u001b[1;32m~\\anaconda3\\lib\\site-packages\\requests\\sessions.py\u001b[0m in \u001b[0;36mrequest\u001b[1;34m(self, method, url, params, data, headers, cookies, files, auth, timeout, allow_redirects, proxies, hooks, stream, verify, cert, json)\u001b[0m\n\u001b[0;32m    585\u001b[0m         }\n\u001b[0;32m    586\u001b[0m         \u001b[0msend_kwargs\u001b[0m\u001b[1;33m.\u001b[0m\u001b[0mupdate\u001b[0m\u001b[1;33m(\u001b[0m\u001b[0msettings\u001b[0m\u001b[1;33m)\u001b[0m\u001b[1;33m\u001b[0m\u001b[1;33m\u001b[0m\u001b[0m\n\u001b[1;32m--> 587\u001b[1;33m         \u001b[0mresp\u001b[0m \u001b[1;33m=\u001b[0m \u001b[0mself\u001b[0m\u001b[1;33m.\u001b[0m\u001b[0msend\u001b[0m\u001b[1;33m(\u001b[0m\u001b[0mprep\u001b[0m\u001b[1;33m,\u001b[0m \u001b[1;33m**\u001b[0m\u001b[0msend_kwargs\u001b[0m\u001b[1;33m)\u001b[0m\u001b[1;33m\u001b[0m\u001b[1;33m\u001b[0m\u001b[0m\n\u001b[0m\u001b[0;32m    588\u001b[0m \u001b[1;33m\u001b[0m\u001b[0m\n\u001b[0;32m    589\u001b[0m         \u001b[1;32mreturn\u001b[0m \u001b[0mresp\u001b[0m\u001b[1;33m\u001b[0m\u001b[1;33m\u001b[0m\u001b[0m\n",
      "\u001b[1;32m~\\anaconda3\\lib\\site-packages\\requests\\sessions.py\u001b[0m in \u001b[0;36msend\u001b[1;34m(self, request, **kwargs)\u001b[0m\n\u001b[0;32m    699\u001b[0m \u001b[1;33m\u001b[0m\u001b[0m\n\u001b[0;32m    700\u001b[0m         \u001b[1;31m# Send the request\u001b[0m\u001b[1;33m\u001b[0m\u001b[1;33m\u001b[0m\u001b[0m\n\u001b[1;32m--> 701\u001b[1;33m         \u001b[0mr\u001b[0m \u001b[1;33m=\u001b[0m \u001b[0madapter\u001b[0m\u001b[1;33m.\u001b[0m\u001b[0msend\u001b[0m\u001b[1;33m(\u001b[0m\u001b[0mrequest\u001b[0m\u001b[1;33m,\u001b[0m \u001b[1;33m**\u001b[0m\u001b[0mkwargs\u001b[0m\u001b[1;33m)\u001b[0m\u001b[1;33m\u001b[0m\u001b[1;33m\u001b[0m\u001b[0m\n\u001b[0m\u001b[0;32m    702\u001b[0m \u001b[1;33m\u001b[0m\u001b[0m\n\u001b[0;32m    703\u001b[0m         \u001b[1;31m# Total elapsed time of the request (approximately)\u001b[0m\u001b[1;33m\u001b[0m\u001b[1;33m\u001b[0m\u001b[0m\n",
      "\u001b[1;32m~\\anaconda3\\lib\\site-packages\\requests\\adapters.py\u001b[0m in \u001b[0;36msend\u001b[1;34m(self, request, stream, timeout, verify, cert, proxies)\u001b[0m\n\u001b[0;32m    554\u001b[0m \u001b[1;33m\u001b[0m\u001b[0m\n\u001b[0;32m    555\u001b[0m             \u001b[1;32mif\u001b[0m \u001b[0misinstance\u001b[0m\u001b[1;33m(\u001b[0m\u001b[0me\u001b[0m\u001b[1;33m.\u001b[0m\u001b[0mreason\u001b[0m\u001b[1;33m,\u001b[0m \u001b[0mResponseError\u001b[0m\u001b[1;33m)\u001b[0m\u001b[1;33m:\u001b[0m\u001b[1;33m\u001b[0m\u001b[1;33m\u001b[0m\u001b[0m\n\u001b[1;32m--> 556\u001b[1;33m                 \u001b[1;32mraise\u001b[0m \u001b[0mRetryError\u001b[0m\u001b[1;33m(\u001b[0m\u001b[0me\u001b[0m\u001b[1;33m,\u001b[0m \u001b[0mrequest\u001b[0m\u001b[1;33m=\u001b[0m\u001b[0mrequest\u001b[0m\u001b[1;33m)\u001b[0m\u001b[1;33m\u001b[0m\u001b[1;33m\u001b[0m\u001b[0m\n\u001b[0m\u001b[0;32m    557\u001b[0m \u001b[1;33m\u001b[0m\u001b[0m\n\u001b[0;32m    558\u001b[0m             \u001b[1;32mif\u001b[0m \u001b[0misinstance\u001b[0m\u001b[1;33m(\u001b[0m\u001b[0me\u001b[0m\u001b[1;33m.\u001b[0m\u001b[0mreason\u001b[0m\u001b[1;33m,\u001b[0m \u001b[0m_ProxyError\u001b[0m\u001b[1;33m)\u001b[0m\u001b[1;33m:\u001b[0m\u001b[1;33m\u001b[0m\u001b[1;33m\u001b[0m\u001b[0m\n",
      "\u001b[1;31mRetryError\u001b[0m: HTTPSConnectionPool(host='trends.google.com', port=443): Max retries exceeded with url: /trends/api/widgetdata/multiline?req=%7B%22time%22%3A+%222015-01-01+2022-12-31%22%2C+%22resolution%22%3A+%22MONTH%22%2C+%22locale%22%3A+%22en-US%22%2C+%22comparisonItem%22%3A+%5B%7B%22geo%22%3A+%7B%22dma%22%3A+%22535%22%7D%2C+%22complexKeywordsRestriction%22%3A+%7B%22keyword%22%3A+%5B%7B%22type%22%3A+%22BROAD%22%2C+%22value%22%3A+%22car+stolen%22%7D%2C+%7B%22type%22%3A+%22BROAD%22%2C+%22value%22%3A+%22find+stolen+car%22%7D%2C+%7B%22type%22%3A+%22BROAD%22%2C+%22value%22%3A+%22report+police+stolen+car%22%7D%2C+%7B%22type%22%3A+%22BROAD%22%2C+%22value%22%3A+%22insurance+car+stolen-dream-check%22%7D%5D%2C+%22operator%22%3A+%22OR%22%7D%7D%5D%2C+%22requestOptions%22%3A+%7B%22property%22%3A+%22%22%2C+%22backend%22%3A+%22IZG%22%2C+%22category%22%3A+0%7D%2C+%22userConfig%22%3A+%7B%22userType%22%3A+%22USER_TYPE_SCRAPER%22%7D%7D&token=APP6_UEAAAAAZS704BQf1ltpl7nXmZ_IVwlqOVq9mRpM&tz=360 (Caused by ResponseError('too many 429 error responses'))"
     ]
    }
   ],
   "source": [
    "\n",
    "#Get 100 times weekly GT MVT data per city\n",
    "for times in range(100):\n",
    "    for geo_code, geo_name in zip(reversed_dict.keys(), reversed_dict.values()):\n",
    "        df = pd.DataFrame()\n",
    "\n",
    "        for start_date, end_date in zip(From, To):\n",
    "            #Get daily estimates with adjusted factors [mean(old/new) * new]\n",
    "            temp_df = GT_temp_df(start_date, end_date, geo_code, geo_name)\n",
    "            df = combine_df_and_temp_df_and_rescale_by_overlap_factors(df, temp_df)\n",
    "\n",
    "        df.name = f\"MVT_GT_{geo_name}\"\n",
    "        df.to_csv(f\"C:/Users/Sean Liu/Documents/GitHub/GT-MVT-Monthly-City/csv_files/{geo_name}_monthly_{From[0]}_{To[-1]}_{pd.Timestamp.now().strftime('%Y%m%d_%H_%M')}.csv\")\n",
    "        print(f\"{geo_name}_monthly_{From[0]}_{To[-1]}_{pd.Timestamp.now().strftime('%Y%m%d_%H_%M')} file saved\")"
   ]
  },
  {
   "cell_type": "code",
   "execution_count": null,
   "id": "015e589e",
   "metadata": {},
   "outputs": [],
   "source": [
    "test.plot(figsize=(20, 12),  kind ='line')"
   ]
  },
  {
   "cell_type": "code",
   "execution_count": null,
   "id": "edc81da1",
   "metadata": {},
   "outputs": [],
   "source": [
    "[print(i/25*23) for i in test2[\"car stolen+find stolen car+report police stolen car+insurance car stolen-dream-check\"]]"
   ]
  },
  {
   "cell_type": "code",
   "execution_count": null,
   "id": "ffdf2371",
   "metadata": {},
   "outputs": [],
   "source": [
    "kw_list=['Facebook', 'Apple', 'Amazon', 'Netflix', 'Google']\n",
    "pytrend = TrendReq()\n",
    "#search interest per region\n",
    "#run model for keywords (can also be competitors)\n",
    "pytrend.build_payload(kw_list, timeframe='today 1-m')\n",
    "\n",
    "# Interest by Region\n",
    "regiondf = pytrend.interest_by_region()\n",
    "#looking at rows where all values are not equal to 0\n",
    "regiondf = regiondf[(regiondf != 0).all(1)]\n",
    "\n",
    "#drop all rows that have null values in all columns\n",
    "regiondf.dropna(how='all',axis=0, inplace=True)\n",
    "\n",
    "#visualise\n",
    "regiondf.plot(figsize=(20, 12), y=kw_list, kind ='bar')"
   ]
  },
  {
   "cell_type": "code",
   "execution_count": null,
   "id": "ecad1d3c",
   "metadata": {},
   "outputs": [],
   "source": [
    "historicaldf = pytrend.get_historical_interest(['Facebook', 'Apple', 'Amazon', 'Netflix', 'Google'], \n",
    "                                               year_start=2020, month_start=1, day_start=1, hour_start=0, \n",
    "                                               year_end=2020, month_end=12, day_end=31, hour_end=0, \n",
    "                                               cat=0, geo='en-US', gprop='', sleep=0)\n",
    "\n",
    "#visualise\n",
    "#plot a timeseries chart\n",
    "historicaldf.plot(figsize=(20, 12))\n",
    "\n",
    "#plot seperate graphs, using theprovided keywords\n",
    "historicaldf.plot(subplots=True, figsize=(20, 12))"
   ]
  },
  {
   "cell_type": "code",
   "execution_count": null,
   "id": "dfd89f89",
   "metadata": {},
   "outputs": [],
   "source": [
    "def gt_func(start_date_list, end_date_list, resolution, sample_size, path):\n",
    "#get monthly GT data\n",
    "    import inflect\n",
    "    #give ordinal names to numbers\n",
    "    p = inflect.engine()\n",
    "\n",
    "    for t in range(sample_size): #sample from GT 100 times\n",
    "        #time.sleep(random.randint(21600,21668)) # 6 hrs\n",
    "        print(f\"The {p.ordinal(t+1)} pull from GT\")\n",
    "        qt_list = [\"Q1\",\"Q2\",\"Q3\",\"Q4\"]\n",
    "        count = 0\n",
    "        for i, j in zip(start_date_list, end_date_list):\n",
    "            df = pd.DataFrame()\n",
    "            #Q1 - Q4\n",
    "            if count == 4:\n",
    "                count = 0\n",
    "            for k in kw_list:\n",
    "                #q = the name of the quarter\n",
    "                q = qt_list[count]\n",
    "                try:\n",
    "                    pytrend.build_payload(k, cat=0, timeframe=f'{i.strftime(\"%Y-%m-%d\")} {j.strftime(\"%Y-%m-%d\")}',  geo='US', gprop='')\n",
    "                    df = pd.concat([df, pytrend.interest_by_region(resolution=\"DMA\", inc_low_vol = False, inc_geo_code = False)], axis = 1)\n",
    "                    time.sleep(random.randint(120, 130))\n",
    "\n",
    "                except (Timeout, ResponseError) as e:\n",
    "                        print(f'!!{i.strftime(\"%Y-%m-%d\")} {j.strftime(\"%Y-%m-%d\")}!! ReadTimeoutError')\n",
    "                        print(f\"Whoops! ReadTimeoutError, the {p.ordinal(t+1)} pull aborted, now we take a rest\")\n",
    "                        print(dt.datetime.now().strftime(\"%Y/%m/%d_%H:%M:%S\"))\n",
    "                        time.sleep(random.randint(86668, 86888)) # 24 hrs\n",
    "                        print(f\"Rest enough, now we continue!\")\n",
    "\n",
    "                        #continue working\n",
    "                        pytrend.build_payload(k, cat=0, timeframe=f'{i.strftime(\"%Y-%m-%d\")} {j.strftime(\"%Y-%m-%d\")}',  geo='US', gprop='')\n",
    "                        df = pd.concat([df, pytrend.interest_by_region(resolution=\"DMA\", inc_low_vol=False, inc_geo_code=False)], axis = 1)\n",
    "                        time.sleep(random.randint(120, 130))\n",
    "\n",
    "            df.columns = [f\"MVT_{i.strftime('%Y')}_{q}\", \n",
    "                          f\"rape_{i.strftime('%Y')}_{q}\", \n",
    "                          f\"larceny_{i.strftime('%Y')}_{q}\", \n",
    "                          f\"burglary_{i.strftime('%Y')}_{q}\", \n",
    "                          f\"known_deliq_{i.strftime('%Y')}_{q}\", \n",
    "                          f\"low_social_cont_{i.strftime('%Y')}_{q}\"]\n",
    "            df.to_csv(f'{path}gt_crime_{i.strftime(\"%Y\")}_{q}_{dt.datetime.now().strftime(\"%Y%m%d_%H-%M-%S\")}.csv')\n",
    "            count += 1\n",
    "        print(f\"The {p.ordinal(t+1)} pull from GT Done!!\")\n",
    "        print(f'Time finished: {dt.datetime.now().strftime(\"%Y/%m/%d, %H:%M\")}')\n",
    "        time.sleep(random.randint(10800,10868)) # 3 hrs\n",
    "\n",
    "\n",
    "    print(f\"Congratulations, Well Done!\")"
   ]
  }
 ],
 "metadata": {
  "kernelspec": {
   "display_name": "Python 3 (ipykernel)",
   "language": "python",
   "name": "python3"
  },
  "language_info": {
   "codemirror_mode": {
    "name": "ipython",
    "version": 3
   },
   "file_extension": ".py",
   "mimetype": "text/x-python",
   "name": "python",
   "nbconvert_exporter": "python",
   "pygments_lexer": "ipython3",
   "version": "3.9.13"
  }
 },
 "nbformat": 4,
 "nbformat_minor": 5
}
