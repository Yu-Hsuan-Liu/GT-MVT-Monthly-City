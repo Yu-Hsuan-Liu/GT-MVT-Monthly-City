{
 "cells": [
  {
   "cell_type": "code",
   "execution_count": 1,
   "id": "682bfc7e",
   "metadata": {},
   "outputs": [
    {
     "name": "stderr",
     "output_type": "stream",
     "text": [
      "Warning message:\n",
      "\"package 'gtrendsR' was built under R version 4.2.3\"\n"
     ]
    }
   ],
   "source": [
    "library(\"gtrendsR\")"
   ]
  },
  {
   "cell_type": "code",
   "execution_count": 2,
   "id": "348d64e6",
   "metadata": {},
   "outputs": [
    {
     "ename": "ERROR",
     "evalue": "Error in interest_over_time(widget, comparison_item, tz): Status code was not 200. Returned status code:429\n",
     "output_type": "error",
     "traceback": [
      "Error in interest_over_time(widget, comparison_item, tz): Status code was not 200. Returned status code:429\nTraceback:\n",
      "1. gtrends(c(\"katrina\", \"harvey\"), time = \"all\", gprop = \"web\", \n .     geo = c(\"US\"))",
      "2. interest_over_time(widget, comparison_item, tz)",
      "3. stop(\"Status code was not 200. Returned status code:\", res$status_code)"
     ]
    }
   ],
   "source": [
    "hurricanes <- gtrends(c(\"katrina\",\"harvey\"), time = \"all\", gprop = \"web\", geo = c(\"US\"))"
   ]
  },
  {
   "cell_type": "code",
   "execution_count": 3,
   "id": "433cdffd",
   "metadata": {},
   "outputs": [
    {
     "ename": "ERROR",
     "evalue": "Error in stopifnot((length(keyword)%%length(geo) == 0) || (length(geo)%%length(keyword) == : object 'keywords' not found\n",
     "output_type": "error",
     "traceback": [
      "Error in stopifnot((length(keyword)%%length(geo) == 0) || (length(geo)%%length(keyword) == : object 'keywords' not found\nTraceback:\n",
      "1. gtrends(keywords, gprop = channel, geo = country, time = time)",
      "2. stopifnot((length(keyword)%%length(geo) == 0) || (length(geo)%%length(keyword) == \n .     0) || (length(time)%%length(keyword) == 0), is.vector(keyword), \n .     length(keyword) <= 5, length(geo) <= 5, length(time) <= 5, \n .     length(hl) == 1, is.character(hl), hl %in% language_codes$code, \n .     length(cookie_url) == 1, is.character(cookie_url))"
     ]
    }
   ],
   "source": [
    "trends = gtrends(keywords, gprop =channel,geo=country, time = time )\n",
    "#select only interst over time \n",
    "time_trend=trends$interest_over_time\n",
    "head(time_trend)"
   ]
  },
  {
   "cell_type": "code",
   "execution_count": null,
   "id": "7f37f590",
   "metadata": {},
   "outputs": [],
   "source": []
  }
 ],
 "metadata": {
  "kernelspec": {
   "display_name": "R",
   "language": "R",
   "name": "ir"
  },
  "language_info": {
   "codemirror_mode": "r",
   "file_extension": ".r",
   "mimetype": "text/x-r-source",
   "name": "R",
   "pygments_lexer": "r",
   "version": "4.2.2"
  }
 },
 "nbformat": 4,
 "nbformat_minor": 5
}
